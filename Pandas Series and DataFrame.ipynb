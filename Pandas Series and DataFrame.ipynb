{
 "cells": [
  {
   "cell_type": "markdown",
   "id": "1a378fa7",
   "metadata": {},
   "source": [
    "# IMPORT PANDAS"
   ]
  },
  {
   "cell_type": "code",
   "execution_count": 10,
   "id": "da755727",
   "metadata": {},
   "outputs": [],
   "source": [
    "import pandas as pd\n"
   ]
  },
  {
   "cell_type": "markdown",
   "id": "955bd604",
   "metadata": {},
   "source": [
    "# Series"
   ]
  },
  {
   "cell_type": "code",
   "execution_count": 28,
   "id": "dc4a913d",
   "metadata": {},
   "outputs": [
    {
     "data": {
      "text/plain": [
       "0    10\n",
       "1    20\n",
       "2    30\n",
       "3    40\n",
       "4    50\n",
       "dtype: int64"
      ]
     },
     "execution_count": 28,
     "metadata": {},
     "output_type": "execute_result"
    }
   ],
   "source": [
    "data = [10,20,30,40,50]\n",
    "type(data)\n",
    "pdata = pd.Series(data)\n",
    "pdata"
   ]
  },
  {
   "cell_type": "code",
   "execution_count": 18,
   "id": "cea9961a",
   "metadata": {},
   "outputs": [
    {
     "data": {
      "text/plain": [
       "0    vinoth\n",
       "1    python\n",
       "2       BCA\n",
       "3      2017\n",
       "dtype: object"
      ]
     },
     "execution_count": 18,
     "metadata": {},
     "output_type": "execute_result"
    }
   ],
   "source": [
    "data = (\"vinoth\",'python','BCA','2017')\n",
    "pdata = pd.Series(data)\n",
    "pdata"
   ]
  },
  {
   "cell_type": "code",
   "execution_count": 22,
   "id": "c288ee66",
   "metadata": {},
   "outputs": [
    {
     "data": {
      "text/plain": [
       "pandas.core.series.Series"
      ]
     },
     "execution_count": 22,
     "metadata": {},
     "output_type": "execute_result"
    }
   ],
   "source": [
    "type(pdata)"
   ]
  },
  {
   "cell_type": "code",
   "execution_count": 25,
   "id": "111ff433",
   "metadata": {},
   "outputs": [
    {
     "data": {
      "text/plain": [
       "name       vinoth\n",
       "subject    python\n",
       "course        BCA\n",
       "year         2017\n",
       "dtype: object"
      ]
     },
     "execution_count": 25,
     "metadata": {},
     "output_type": "execute_result"
    }
   ],
   "source": [
    "data = {'name':\"vinoth\",'subject':'python','course':'BCA','year':'2017'}\n",
    "pdata = pd.Series(data)\n",
    "pdata"
   ]
  },
  {
   "cell_type": "code",
   "execution_count": 26,
   "id": "d24e5652",
   "metadata": {},
   "outputs": [
    {
     "data": {
      "text/plain": [
       "name       santhosh\n",
       "subject         sql\n",
       "course         bcom\n",
       "year           2014\n",
       "dtype: object"
      ]
     },
     "execution_count": 26,
     "metadata": {},
     "output_type": "execute_result"
    }
   ],
   "source": [
    "list = ['santhosh','sql','bcom','2014']\n",
    "list = pd.Series(list,index=['name','subject','course','year'])\n",
    "list"
   ]
  },
  {
   "cell_type": "code",
   "execution_count": 27,
   "id": "be825caf",
   "metadata": {},
   "outputs": [
    {
     "data": {
      "text/plain": [
       "'2014'"
      ]
     },
     "execution_count": 27,
     "metadata": {},
     "output_type": "execute_result"
    }
   ],
   "source": [
    "list['year']"
   ]
  },
  {
   "cell_type": "markdown",
   "id": "0e95267d",
   "metadata": {},
   "source": [
    "# DataFrame"
   ]
  },
  {
   "cell_type": "code",
   "execution_count": 30,
   "id": "0f4bc637",
   "metadata": {},
   "outputs": [
    {
     "data": {
      "text/html": [
       "<div>\n",
       "<style scoped>\n",
       "    .dataframe tbody tr th:only-of-type {\n",
       "        vertical-align: middle;\n",
       "    }\n",
       "\n",
       "    .dataframe tbody tr th {\n",
       "        vertical-align: top;\n",
       "    }\n",
       "\n",
       "    .dataframe thead th {\n",
       "        text-align: right;\n",
       "    }\n",
       "</style>\n",
       "<table border=\"1\" class=\"dataframe\">\n",
       "  <thead>\n",
       "    <tr style=\"text-align: right;\">\n",
       "      <th></th>\n",
       "      <th>name</th>\n",
       "      <th>age</th>\n",
       "      <th>city</th>\n",
       "      <th>salary</th>\n",
       "    </tr>\n",
       "  </thead>\n",
       "  <tbody>\n",
       "    <tr>\n",
       "      <th>0</th>\n",
       "      <td>vinoth</td>\n",
       "      <td>26</td>\n",
       "      <td>chennai</td>\n",
       "      <td>12000</td>\n",
       "    </tr>\n",
       "    <tr>\n",
       "      <th>1</th>\n",
       "      <td>santhosh</td>\n",
       "      <td>25</td>\n",
       "      <td>chennai</td>\n",
       "      <td>23000</td>\n",
       "    </tr>\n",
       "    <tr>\n",
       "      <th>2</th>\n",
       "      <td>karthi</td>\n",
       "      <td>34</td>\n",
       "      <td>madurai</td>\n",
       "      <td>19000</td>\n",
       "    </tr>\n",
       "    <tr>\n",
       "      <th>3</th>\n",
       "      <td>satishwaran</td>\n",
       "      <td>29</td>\n",
       "      <td>theni</td>\n",
       "      <td>11000</td>\n",
       "    </tr>\n",
       "  </tbody>\n",
       "</table>\n",
       "</div>"
      ],
      "text/plain": [
       "          name  age     city  salary\n",
       "0       vinoth   26  chennai   12000\n",
       "1     santhosh   25  chennai   23000\n",
       "2       karthi   34  madurai   19000\n",
       "3  satishwaran   29    theni   11000"
      ]
     },
     "execution_count": 30,
     "metadata": {},
     "output_type": "execute_result"
    }
   ],
   "source": [
    " data = {'name':[\"vinoth\",\"santhosh\",\"karthi\",\"satishwaran\"],\"age\":[26,25,34,29],\"city\":['chennai','chennai','madurai','theni'],'salary':[12000,23000,19000,11000]}\n",
    "df = pd.DataFrame(data) \n",
    "df"
   ]
  },
  {
   "cell_type": "code",
   "execution_count": null,
   "id": "58e5df49",
   "metadata": {},
   "outputs": [],
   "source": [
    "# "
   ]
  }
 ],
 "metadata": {
  "kernelspec": {
   "display_name": "Python 3 (ipykernel)",
   "language": "python",
   "name": "python3"
  },
  "language_info": {
   "codemirror_mode": {
    "name": "ipython",
    "version": 3
   },
   "file_extension": ".py",
   "mimetype": "text/x-python",
   "name": "python",
   "nbconvert_exporter": "python",
   "pygments_lexer": "ipython3",
   "version": "3.9.13"
  }
 },
 "nbformat": 4,
 "nbformat_minor": 5
}
